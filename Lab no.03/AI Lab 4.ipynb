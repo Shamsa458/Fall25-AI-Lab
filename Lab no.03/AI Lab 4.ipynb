{
 "cells": [
  {
   "cell_type": "markdown",
   "id": "3d42fa12",
   "metadata": {},
   "source": [
    "1. Code for LUHN Algorithm"
   ]
  },
  {
   "cell_type": "code",
   "execution_count": null,
   "id": "2a6526c7",
   "metadata": {},
   "outputs": [
    {
     "name": "stdout",
     "output_type": "stream",
     "text": [
      "4539 1488 0343 6467 is Valid\n",
      "6011 1111 1111 1117 is Valid\n"
     ]
    }
   ],
   "source": [
    "\n",
    "def luhn_algorithm(card_no):\n",
    "    card_no = card_no.replace(\" \", \"\")   \n",
    "    if not card_no.isdigit():\n",
    "        return False\n",
    "\n",
    "    card_no = card_no[::-1]   \n",
    "    total = 0\n",
    "\n",
    "    for i in range(len(card_no)):\n",
    "        digit = int(card_no[i])\n",
    "\n",
    "    \n",
    "        if i % 2 == 1:\n",
    "            digit = digit * 2\n",
    "            if digit > 9:\n",
    "                digit = digit - 9\n",
    "        total = total + digit\n",
    "\n",
    "    if total % 10 == 0:\n",
    "        return True\n",
    "    else:\n",
    "        return False\n",
    "    \n",
    "cards = [\"4539 1488 0343 6467\", \"6011 1111 1111 1117\"]\n",
    "\n",
    "for c in cards:\n",
    "    if luhn_algorithm(c):\n",
    "        print(c, \"is Valid\")\n",
    "    else:\n",
    "        print(c, \"is Invalid\")\n"
   ]
  },
  {
   "cell_type": "markdown",
   "id": "8c412cd0",
   "metadata": {},
   "source": [
    "2. Write a python program to remove punctuations from the given string."
   ]
  },
  {
   "cell_type": "code",
   "execution_count": null,
   "id": "7f09573d",
   "metadata": {},
   "outputs": [
    {
     "name": "stdout",
     "output_type": "stream",
     "text": [
      "String without punctuations: Hello How are you\n"
     ]
    },
    {
     "name": "stderr",
     "output_type": "stream",
     "text": [
      "<>:1: SyntaxWarning: invalid escape sequence '\\,'\n",
      "<>:1: SyntaxWarning: invalid escape sequence '\\,'\n",
      "C:\\Users\\Ashfaq\\AppData\\Local\\Temp\\ipykernel_2644\\3435564706.py:1: SyntaxWarning: invalid escape sequence '\\,'\n",
      "  punctuations = '''!()-[]{};:'\"\\,<>./?@#$%^&*_~'''\n"
     ]
    }
   ],
   "source": [
    "\n",
    "punctuations = '''!()-[]{};:'\"\\,<>./?@#$%^&*_~'''\n",
    "string = \"Hello!!! How are you???\"\n",
    "\n",
    "no_punct = \"\"\n",
    "\n",
    "for char in string:\n",
    "    if char not in punctuations:\n",
    "        no_punct = no_punct + char   \n",
    "print(\"String without punctuations:\", no_punct)"
   ]
  },
  {
   "cell_type": "markdown",
   "id": "e725f8c9",
   "metadata": {},
   "source": [
    "3. Write a python program to sort the sentence in alphabetical order? "
   ]
  },
  {
   "cell_type": "code",
   "execution_count": null,
   "id": "e4efff6b",
   "metadata": {},
   "outputs": [
    {
     "name": "stdout",
     "output_type": "stream",
     "text": [
      "Original Sentence: Python is a powerful and easy language\n",
      "Sorted Sentence: a and easy is language powerful Python\n"
     ]
    }
   ],
   "source": [
    "sentence = \"Python is a powerful and easy language\"\n",
    "words = sentence.split()\n",
    "\n",
    "n = len(words)\n",
    "for i in range(n):\n",
    "    for j in range(0, n-i-1):\n",
    "        if words[j].lower() > words[j+1].lower():   \n",
    "            words[j], words[j+1] = words[j+1], words[j]\n",
    "\n",
    "print(\"Original Sentence:\", sentence)\n",
    "print(\"Sorted Sentence:\", \" \".join(words))"
   ]
  }
 ],
 "metadata": {
  "kernelspec": {
   "display_name": "base",
   "language": "python",
   "name": "python3"
  },
  "language_info": {
   "codemirror_mode": {
    "name": "ipython",
    "version": 3
   },
   "file_extension": ".py",
   "mimetype": "text/x-python",
   "name": "python",
   "nbconvert_exporter": "python",
   "pygments_lexer": "ipython3",
   "version": "3.12.7"
  }
 },
 "nbformat": 4,
 "nbformat_minor": 5
}
