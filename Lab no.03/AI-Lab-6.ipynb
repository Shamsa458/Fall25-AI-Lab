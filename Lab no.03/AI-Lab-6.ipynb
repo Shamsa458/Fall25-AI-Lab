{
 "cells": [
  {
   "cell_type": "markdown",
   "id": "806c674e",
   "metadata": {},
   "source": [
    "BFS with Queue"
   ]
  },
  {
   "cell_type": "code",
   "execution_count": null,
   "id": "468b6769",
   "metadata": {},
   "outputs": [
    {
     "name": "stdout",
     "output_type": "stream",
     "text": [
      "BFS Traversal:\n",
      "A B C D E F "
     ]
    }
   ],
   "source": [
    "from collections import deque\n",
    "\n",
    "def bfs(graph, start):\n",
    "    visited = set()         # To keep track of visited nodes\n",
    "    queue = deque([start])  # Initialize queue with the starting node\n",
    "\n",
    "    while queue:\n",
    "        node = queue.popleft()   # Remove the front element from the queue\n",
    "        \n",
    "        if node not in visited:\n",
    "            print(node, end=\" \") \n",
    "            visited.add(node)    \n",
    "            \n",
    "            # Add all unvisited neighbors to the queue\n",
    "            for neighbor in graph[node]:\n",
    "                if neighbor not in visited:\n",
    "                    queue.append(neighbor)\n",
    "\n",
    "# Example Graph (Adjacency List)\n",
    "graph = {\n",
    "    'A': ['B', 'C'],\n",
    "    'B': ['D', 'E'],\n",
    "    'C': ['F'],\n",
    "    'D': [],\n",
    "    'E': ['F'],\n",
    "    'F': []\n",
    "}\n",
    "\n",
    "print(\"BFS Traversal:\")\n",
    "bfs(graph, 'A')\n"
   ]
  },
  {
   "cell_type": "markdown",
   "id": "fc17e243",
   "metadata": {},
   "source": [
    "BFS without Queue"
   ]
  },
  {
   "cell_type": "code",
   "execution_count": null,
   "id": "2f4442cd",
   "metadata": {},
   "outputs": [
    {
     "name": "stdout",
     "output_type": "stream",
     "text": [
      "BFS Traversal Without Using Queue:\n",
      "A B C D E F "
     ]
    }
   ],
   "source": [
    "def bfs_without_queue(graph, start):\n",
    "    visited = []          \n",
    "    level = [start]       \n",
    "    \n",
    "    while level:          \n",
    "        next_level = []   \n",
    "        \n",
    "        for node in level:\n",
    "            if node not in visited:\n",
    "                print(node, end=\" \")\n",
    "                visited.append(node)\n",
    "                \n",
    "                # Add all unvisited neighbors to next level\n",
    "                for neighbor in graph[node]:\n",
    "                    if neighbor not in visited:\n",
    "                        next_level.append(neighbor)\n",
    "        \n",
    "        # Move to next level\n",
    "        level = next_level\n",
    "\n",
    "\n",
    "graph = {\n",
    "    'A': ['B', 'C'],\n",
    "    'B': ['D', 'E'],\n",
    "    'C': ['F'],\n",
    "    'D': [],\n",
    "    'E': ['F'],\n",
    "    'F': []\n",
    "}\n",
    "\n",
    "# Function Call\n",
    "print(\"BFS Traversal Without Using Queue:\")\n",
    "bfs_without_queue(graph, 'A')\n"
   ]
  }
 ],
 "metadata": {
  "kernelspec": {
   "display_name": "base",
   "language": "python",
   "name": "python3"
  },
  "language_info": {
   "codemirror_mode": {
    "name": "ipython",
    "version": 3
   },
   "file_extension": ".py",
   "mimetype": "text/x-python",
   "name": "python",
   "nbconvert_exporter": "python",
   "pygments_lexer": "ipython3",
   "version": "3.12.7"
  }
 },
 "nbformat": 4,
 "nbformat_minor": 5
}
