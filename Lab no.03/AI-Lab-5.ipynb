{
 "cells": [
  {
   "cell_type": "markdown",
   "id": "d7f28db5",
   "metadata": {},
   "source": [
    "1. DFS with Stack "
   ]
  },
  {
   "cell_type": "code",
   "execution_count": null,
   "id": "251ed58b",
   "metadata": {},
   "outputs": [
    {
     "name": "stdout",
     "output_type": "stream",
     "text": [
      "A B D E F C "
     ]
    }
   ],
   "source": [
    "def dfs_stack(graph, start):\n",
    "    visited = set()       \n",
    "    stack = [start]       \n",
    "\n",
    "    while stack:          \n",
    "        node = stack.pop()  \n",
    "\n",
    "        if node not in visited:\n",
    "            print(node, end=\" \")   \n",
    "            visited.add(node)\n",
    "\n",
    "        \n",
    "            for neighbor in reversed(graph[node]):\n",
    "                if neighbor not in visited:\n",
    "                    stack.append(neighbor)\n",
    "\n",
    "graph = {\n",
    "    'A': ['B', 'C'],\n",
    "    'B': ['D', 'E'],\n",
    "    'C': ['F'],\n",
    "    'D': [],\n",
    "    'E': ['F'],\n",
    "    'F': []\n",
    "}\n",
    "\n",
    "\n",
    "dfs_stack(graph, 'A')\n"
   ]
  },
  {
   "cell_type": "markdown",
   "id": "261b1daa",
   "metadata": {},
   "source": [
    "2. Research about \"Inorder, Preorder, Postorder\" "
   ]
  },
  {
   "cell_type": "code",
   "execution_count": 3,
   "id": "4a0b02f8",
   "metadata": {},
   "outputs": [
    {
     "name": "stdout",
     "output_type": "stream",
     "text": [
      "Inorder Traversal:\n",
      "D B E A F C \n",
      "Preorder Traversal:\n",
      "A B D E C F \n",
      "Postorder Traversal:\n",
      "D E B F C A "
     ]
    }
   ],
   "source": [
    "class Node:\n",
    "    def __init__(self, key):\n",
    "        self.key = key\n",
    "        self.left = None\n",
    "        self.right = None\n",
    "\n",
    "def inorder(root):\n",
    "    if root:\n",
    "        inorder(root.left)\n",
    "        print(root.key, end=\" \")\n",
    "        inorder(root.right)\n",
    "\n",
    "def preorder(root):\n",
    "    if root:\n",
    "        print(root.key, end=\" \")\n",
    "        preorder(root.left)\n",
    "        preorder(root.right)\n",
    "\n",
    "def postorder(root):\n",
    "    if root:\n",
    "        postorder(root.left)\n",
    "        postorder(root.right)\n",
    "        print(root.key, end=\" \")\n",
    "\n",
    "\n",
    "root = Node('A')\n",
    "root.left = Node('B')\n",
    "root.right = Node('C')\n",
    "root.left.left = Node('D')\n",
    "root.left.right = Node('E')\n",
    "root.right.left = Node('F')\n",
    "\n",
    "print(\"Inorder Traversal:\")\n",
    "inorder(root)\n",
    "print(\"\\nPreorder Traversal:\")\n",
    "preorder(root)\n",
    "print(\"\\nPostorder Traversal:\")\n",
    "postorder(root)\n"
   ]
  }
 ],
 "metadata": {
  "kernelspec": {
   "display_name": "base",
   "language": "python",
   "name": "python3"
  },
  "language_info": {
   "codemirror_mode": {
    "name": "ipython",
    "version": 3
   },
   "file_extension": ".py",
   "mimetype": "text/x-python",
   "name": "python",
   "nbconvert_exporter": "python",
   "pygments_lexer": "ipython3",
   "version": "3.12.7"
  }
 },
 "nbformat": 4,
 "nbformat_minor": 5
}
