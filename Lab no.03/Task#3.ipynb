{
 "cells": [
  {
   "cell_type": "markdown",
   "id": "f16bffaf",
   "metadata": {},
   "source": [
    "Model-Based Reflex Agent.                                                                                  \n",
    "This agent not only checks the current temperature but also remembers the previous action to avoid turning the heater on or off unnecessarily."
   ]
  },
  {
   "cell_type": "code",
   "execution_count": 10,
   "id": "1e589ff2",
   "metadata": {},
   "outputs": [
    {
     "name": "stdout",
     "output_type": "stream",
     "text": [
      "Living Room:\t20 °C => Action: Turn on the Heater\n",
      "Drawing Room:\t28 °C => Action: Turn off the Heater\n",
      "Kitchen:\t34 °C => Action: Heater remains OFF\n",
      "Bedroom:\t18 °C => Action: Turn on the Heater\n",
      "Balcony:\t14 °C => Action: Heater remains ON\n"
     ]
    }
   ],
   "source": [
    "class ModelBaseReflexAgent:\n",
    "    def __init__(self, temp):\n",
    "        self.fixed_temp = temp           \n",
    "        self.previous_action = None      \n",
    "\n",
    "    def sensor(self, temp):\n",
    "        self.current_temp = temp         \n",
    "\n",
    "    def performance(self):\n",
    "        action = None\n",
    "\n",
    "        \n",
    "        if self.current_temp < self.fixed_temp:\n",
    "            if self.previous_action != \"Turn on the Heater\":  \n",
    "                action = \"Turn on the Heater\"\n",
    "                self.previous_action = action\n",
    "            else:\n",
    "                action = \"Heater remains ON\"\n",
    "\n",
    "        \n",
    "        else:\n",
    "            if self.previous_action != \"Turn off the Heater\":\n",
    "                action = \"Turn off the Heater\"\n",
    "                self.previous_action = action\n",
    "            else:\n",
    "                action = \"Heater remains OFF\"\n",
    "\n",
    "        return action\n",
    "\n",
    "    def actuator(self):\n",
    "        action = self.performance()\n",
    "        print(self.current_temp, \"°C => Action:\", action)\n",
    "\n",
    "\n",
    "rooms = {\n",
    "    \"Living Room\": 20,\n",
    "    \"Drawing Room\": 28,\n",
    "    \"Kitchen\": 34,\n",
    "    \"Bedroom\": 18,\n",
    "    \"Balcony\": 14,\n",
    "}\n",
    "\n",
    "agent = ModelBaseReflexAgent(26)   \n",
    "\n",
    "for room, temp in rooms.items():\n",
    "    print(room, end=\":\\t\")\n",
    "    agent.sensor(temp)\n",
    "    agent.actuator()\n"
   ]
  }
 ],
 "metadata": {
  "kernelspec": {
   "display_name": "base",
   "language": "python",
   "name": "python3"
  },
  "language_info": {
   "codemirror_mode": {
    "name": "ipython",
    "version": 3
   },
   "file_extension": ".py",
   "mimetype": "text/x-python",
   "name": "python",
   "nbconvert_exporter": "python",
   "pygments_lexer": "ipython3",
   "version": "3.12.7"
  }
 },
 "nbformat": 4,
 "nbformat_minor": 5
}
